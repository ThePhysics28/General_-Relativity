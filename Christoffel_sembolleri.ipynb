{
  "nbformat": 4,
  "nbformat_minor": 0,
  "metadata": {
    "colab": {
      "provenance": [],
      "authorship_tag": "ABX9TyM+rUvoZuVQ+WRJHfamStfV",
      "include_colab_link": true
    },
    "kernelspec": {
      "name": "python3",
      "display_name": "Python 3"
    },
    "language_info": {
      "name": "python"
    }
  },
  "cells": [
    {
      "cell_type": "markdown",
      "metadata": {
        "id": "view-in-github",
        "colab_type": "text"
      },
      "source": [
        "<a href=\"https://colab.research.google.com/github/ThePhysics28/General_-Relativity/blob/main/Christoffel_sembolleri.ipynb\" target=\"_parent\"><img src=\"https://colab.research.google.com/assets/colab-badge.svg\" alt=\"Open In Colab\"/></a>"
      ]
    },
    {
      "cell_type": "code",
      "source": [
        "import sympy as sp\n",
        "\n",
        "# Koordinatları tanımla (r, theta)\n",
        "r, theta = sp.symbols('r theta')\n",
        "\n",
        "# Metrik tensörünü tanımla (Polar koordinatlar)\n",
        "g = sp.Matrix([\n",
        "    [1, 0],        # g_rr = 1, g_rtheta = 0\n",
        "    [0, r**2]      # g_thetar = 0, g_thetatheta = r^2\n",
        "])\n",
        "\n",
        "# Metrik tensörünün tersi (inverse metric)\n",
        "g_inv = g.inv()\n",
        "\n",
        "# Christoffel sembolleri için boş bir sözlük\n",
        "Gamma = {}\n",
        "\n",
        "# Koordinat sayısı - Polar coordinates have 2 dimensions\n",
        "n = 2\n",
        "\n",
        "# Coordinates for polar system\n",
        "coords = [r, theta]\n",
        "\n",
        "# Christoffel sembolleri hesaplama\n",
        "for lam in range(n):\n",
        "    for mu in range(n):\n",
        "        for nu in range(n):\n",
        "            expr = 0\n",
        "            for rho in range(n):\n",
        "                # Use actual coordinate symbols (r, theta) for differentiation\n",
        "                expr += g_inv[lam, rho] * (sp.diff(g[rho, nu], coords[mu]) +\n",
        "                                           sp.diff(g[rho, mu], coords[nu]) -\n",
        "                                           sp.diff(g[mu, nu], coords[rho]))\n",
        "            Gamma[(lam, mu, nu)] = sp.simplify(1/2 * expr)\n",
        "\n",
        "# Sonuçları yazdır\n",
        "for key, value in Gamma.items():\n",
        "    print(f\"Γ^{key[0]}_{key[1]}{key[2]} = {value}\")"
      ],
      "metadata": {
        "colab": {
          "base_uri": "https://localhost:8080/"
        },
        "id": "2EaNNDyG9atx",
        "outputId": "8ac6e547-a233-4f03-8324-8cdf74f533a3"
      },
      "execution_count": 3,
      "outputs": [
        {
          "output_type": "stream",
          "name": "stdout",
          "text": [
            "Γ^0_00 = 0\n",
            "Γ^0_01 = 0\n",
            "Γ^0_10 = 0\n",
            "Γ^0_11 = -1.0*r\n",
            "Γ^1_00 = 0\n",
            "Γ^1_01 = 1.0/r\n",
            "Γ^1_10 = 1.0/r\n",
            "Γ^1_11 = 0\n"
          ]
        }
      ]
    },
    {
      "cell_type": "code",
      "source": [
        "pip install einsteinpy\n"
      ],
      "metadata": {
        "colab": {
          "base_uri": "https://localhost:8080/"
        },
        "collapsed": true,
        "id": "7qHNm3c59t2e",
        "outputId": "37feaa49-a8a3-42f2-ff20-c42c342ccd28"
      },
      "execution_count": 4,
      "outputs": [
        {
          "output_type": "stream",
          "name": "stdout",
          "text": [
            "Collecting einsteinpy\n",
            "  Downloading einsteinpy-0.4.0-py3-none-any.whl.metadata (10 kB)\n",
            "Requirement already satisfied: numpy in /usr/local/lib/python3.11/dist-packages (from einsteinpy) (1.26.4)\n",
            "Requirement already satisfied: astropy in /usr/local/lib/python3.11/dist-packages (from einsteinpy) (6.1.7)\n",
            "Requirement already satisfied: matplotlib in /usr/local/lib/python3.11/dist-packages (from einsteinpy) (3.10.0)\n",
            "Requirement already satisfied: scipy>=1.0 in /usr/local/lib/python3.11/dist-packages (from einsteinpy) (1.13.1)\n",
            "Requirement already satisfied: plotly>=4.0 in /usr/local/lib/python3.11/dist-packages (from einsteinpy) (5.24.1)\n",
            "Requirement already satisfied: sympy>=1.1 in /usr/local/lib/python3.11/dist-packages (from einsteinpy) (1.13.1)\n",
            "Requirement already satisfied: numba!=0.49.0,>=0.46 in /usr/local/lib/python3.11/dist-packages (from einsteinpy) (0.60.0)\n",
            "Requirement already satisfied: llvmlite<0.44,>=0.43.0dev0 in /usr/local/lib/python3.11/dist-packages (from numba!=0.49.0,>=0.46->einsteinpy) (0.43.0)\n",
            "Requirement already satisfied: tenacity>=6.2.0 in /usr/local/lib/python3.11/dist-packages (from plotly>=4.0->einsteinpy) (9.0.0)\n",
            "Requirement already satisfied: packaging in /usr/local/lib/python3.11/dist-packages (from plotly>=4.0->einsteinpy) (24.2)\n",
            "Requirement already satisfied: mpmath<1.4,>=1.1.0 in /usr/local/lib/python3.11/dist-packages (from sympy>=1.1->einsteinpy) (1.3.0)\n",
            "Requirement already satisfied: pyerfa>=2.0.1.1 in /usr/local/lib/python3.11/dist-packages (from astropy->einsteinpy) (2.0.1.5)\n",
            "Requirement already satisfied: astropy-iers-data>=0.2024.10.28.0.34.7 in /usr/local/lib/python3.11/dist-packages (from astropy->einsteinpy) (0.2025.1.27.0.32.44)\n",
            "Requirement already satisfied: PyYAML>=3.13 in /usr/local/lib/python3.11/dist-packages (from astropy->einsteinpy) (6.0.2)\n",
            "Requirement already satisfied: contourpy>=1.0.1 in /usr/local/lib/python3.11/dist-packages (from matplotlib->einsteinpy) (1.3.1)\n",
            "Requirement already satisfied: cycler>=0.10 in /usr/local/lib/python3.11/dist-packages (from matplotlib->einsteinpy) (0.12.1)\n",
            "Requirement already satisfied: fonttools>=4.22.0 in /usr/local/lib/python3.11/dist-packages (from matplotlib->einsteinpy) (4.55.7)\n",
            "Requirement already satisfied: kiwisolver>=1.3.1 in /usr/local/lib/python3.11/dist-packages (from matplotlib->einsteinpy) (1.4.8)\n",
            "Requirement already satisfied: pillow>=8 in /usr/local/lib/python3.11/dist-packages (from matplotlib->einsteinpy) (11.1.0)\n",
            "Requirement already satisfied: pyparsing>=2.3.1 in /usr/local/lib/python3.11/dist-packages (from matplotlib->einsteinpy) (3.2.1)\n",
            "Requirement already satisfied: python-dateutil>=2.7 in /usr/local/lib/python3.11/dist-packages (from matplotlib->einsteinpy) (2.8.2)\n",
            "Requirement already satisfied: six>=1.5 in /usr/local/lib/python3.11/dist-packages (from python-dateutil>=2.7->matplotlib->einsteinpy) (1.17.0)\n",
            "Downloading einsteinpy-0.4.0-py3-none-any.whl (88 kB)\n",
            "\u001b[2K   \u001b[90m━━━━━━━━━━━━━━━━━━━━━━━━━━━━━━━━━━━━━━━━\u001b[0m \u001b[32m88.1/88.1 kB\u001b[0m \u001b[31m2.8 MB/s\u001b[0m eta \u001b[36m0:00:00\u001b[0m\n",
            "\u001b[?25hInstalling collected packages: einsteinpy\n",
            "Successfully installed einsteinpy-0.4.0\n"
          ]
        }
      ]
    },
    {
      "cell_type": "code",
      "source": [
        "from einsteinpy.symbolic import ChristoffelSymbols, MetricTensor\n",
        "from sympy import symbols, diag, Array\n",
        "\n",
        "# Koordinatları tanımla (Schwarzschild r, θ, φ, t)\n",
        "t, r, theta, phi, G, M, c = symbols(\"t r theta phi G M c\")\n",
        "\n",
        "# Schwarzschild metriğini tanımla\n",
        "schwarzschild_metric = diag(\n",
        "    -(1 - (2 * G * M) / (r * c**2)),  # g_tt\n",
        "    1 / (1 - (2 * G * M) / (r * c**2)),  # g_rr\n",
        "    r**2,  # g_theta_theta\n",
        "    r**2 * (theta**2)  # g_phi_phi\n",
        ")\n",
        "\n",
        "# Convert the sympy.Matrix to sympy.Array\n",
        "schwarzschild_metric_array = Array(schwarzschild_metric)\n",
        "\n",
        "\n",
        "# MetricTensor nesnesi oluştur\n",
        "metric = MetricTensor(schwarzschild_metric_array, [t, r, theta, phi])\n",
        "\n",
        "# Christoffel sembollerini hesapla\n",
        "christoffel = ChristoffelSymbols.from_metric(metric)\n",
        "\n",
        "# Sonuçları yazdır\n",
        "print(\"Christoffel Sembolleri:\")\n",
        "print(christoffel)"
      ],
      "metadata": {
        "colab": {
          "base_uri": "https://localhost:8080/"
        },
        "id": "UlyOvzev-a-R",
        "outputId": "eab682c2-5cdc-4c89-ee0f-82120edb7279"
      },
      "execution_count": 6,
      "outputs": [
        {
          "output_type": "stream",
          "name": "stdout",
          "text": [
            "Christoffel Sembolleri:\n",
            "Tensor ChristoffelSymbols\n",
            "[[[0, G*M/(r*(-2*G*M + c**2*r)), 0, 0], [G*M/(r*(-2*G*M + c**2*r)), 0, 0, 0], [0, 0, 0, 0], [0, 0, 0, 0]], [[G*M*(-2*G*M + c**2*r)/(c**4*r**3), 0, 0, 0], [0, -G*M*(-2*G*M + c**2*r)/(c**4*r**3*(-2*G*M/(c**2*r) + 1)**2), 0, 0], [0, 0, -(-2*G*M + c**2*r)/c**2, 0], [0, 0, 0, -theta**2*(-2*G*M + c**2*r)/c**2]], [[0, 0, 0, 0], [0, 0, 1/r, 0], [0, 1/r, 0, 0], [0, 0, 0, -theta]], [[0, 0, 0, 0], [0, 0, 0, 1/r], [0, 0, 0, 1/theta], [0, 1/r, 1/theta, 0]]]\n"
          ]
        }
      ]
    },
    {
      "cell_type": "code",
      "source": [],
      "metadata": {
        "id": "VXQn3P5e-oGM"
      },
      "execution_count": null,
      "outputs": []
    }
  ]
}